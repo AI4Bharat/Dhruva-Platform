{
 "cells": [
  {
   "cell_type": "code",
   "execution_count": 1,
   "metadata": {},
   "outputs": [
    {
     "ename": "PydanticUserError",
     "evalue": "If you use `@root_validator` with pre=False (the default) you MUST specify `skip_on_failure=True`. Note that `@root_validator` is deprecated and should be replaced with `@model_validator`.\n\nFor further information visit https://errors.pydantic.dev/2.5/u/root-validator-pre-skip",
     "output_type": "error",
     "traceback": [
      "\u001b[0;31m---------------------------------------------------------------------------\u001b[0m",
      "\u001b[0;31mPydanticUserError\u001b[0m                         Traceback (most recent call last)",
      "\u001b[1;32m/home/jagadeeshlachannagari/Desktop/dhruva_repo/jagadeesh_repo/Dhruva-Platform/server/dummy.ipynb Cell 1\u001b[0m line \u001b[0;36m4\n\u001b[1;32m      <a href='vscode-notebook-cell:/home/jagadeeshlachannagari/Desktop/dhruva_repo/jagadeesh_repo/Dhruva-Platform/server/dummy.ipynb#W0sZmlsZQ%3D%3D?line=1'>2</a>\u001b[0m \u001b[39mfrom\u001b[39;00m \u001b[39mfastapi\u001b[39;00m\u001b[39m.\u001b[39;00m\u001b[39mrouting\u001b[39;00m \u001b[39mimport\u001b[39;00m APIRoute, Request\n\u001b[1;32m      <a href='vscode-notebook-cell:/home/jagadeeshlachannagari/Desktop/dhruva_repo/jagadeesh_repo/Dhruva-Platform/server/dummy.ipynb#W0sZmlsZQ%3D%3D?line=2'>3</a>\u001b[0m \u001b[39mfrom\u001b[39;00m \u001b[39mschema\u001b[39;00m\u001b[39m.\u001b[39;00m\u001b[39mauth\u001b[39;00m\u001b[39m.\u001b[39;00m\u001b[39mcommon\u001b[39;00m \u001b[39mimport\u001b[39;00m ApiKeyType\n\u001b[0;32m----> <a href='vscode-notebook-cell:/home/jagadeeshlachannagari/Desktop/dhruva_repo/jagadeesh_repo/Dhruva-Platform/server/dummy.ipynb#W0sZmlsZQ%3D%3D?line=3'>4</a>\u001b[0m \u001b[39mfrom\u001b[39;00m \u001b[39mschema\u001b[39;00m\u001b[39m.\u001b[39;00m\u001b[39mservices\u001b[39;00m\u001b[39m.\u001b[39;00m\u001b[39mrequest\u001b[39;00m \u001b[39mimport\u001b[39;00m (\n\u001b[1;32m      <a href='vscode-notebook-cell:/home/jagadeeshlachannagari/Desktop/dhruva_repo/jagadeesh_repo/Dhruva-Platform/server/dummy.ipynb#W0sZmlsZQ%3D%3D?line=4'>5</a>\u001b[0m     ULCAOcrInferenceRequest,\n\u001b[1;32m      <a href='vscode-notebook-cell:/home/jagadeeshlachannagari/Desktop/dhruva_repo/jagadeesh_repo/Dhruva-Platform/server/dummy.ipynb#W0sZmlsZQ%3D%3D?line=5'>6</a>\u001b[0m     ULCAInferenceQuery\n\u001b[1;32m      <a href='vscode-notebook-cell:/home/jagadeeshlachannagari/Desktop/dhruva_repo/jagadeesh_repo/Dhruva-Platform/server/dummy.ipynb#W0sZmlsZQ%3D%3D?line=6'>7</a>\u001b[0m )\n\u001b[1;32m      <a href='vscode-notebook-cell:/home/jagadeeshlachannagari/Desktop/dhruva_repo/jagadeesh_repo/Dhruva-Platform/server/dummy.ipynb#W0sZmlsZQ%3D%3D?line=7'>8</a>\u001b[0m \u001b[39mfrom\u001b[39;00m \u001b[39mschema\u001b[39;00m\u001b[39m.\u001b[39;00m\u001b[39mservices\u001b[39;00m\u001b[39m.\u001b[39;00m\u001b[39mresponse\u001b[39;00m \u001b[39mimport\u001b[39;00m (\n\u001b[1;32m      <a href='vscode-notebook-cell:/home/jagadeeshlachannagari/Desktop/dhruva_repo/jagadeesh_repo/Dhruva-Platform/server/dummy.ipynb#W0sZmlsZQ%3D%3D?line=8'>9</a>\u001b[0m     ULCAOcrInferenceResponse\n\u001b[1;32m     <a href='vscode-notebook-cell:/home/jagadeeshlachannagari/Desktop/dhruva_repo/jagadeesh_repo/Dhruva-Platform/server/dummy.ipynb#W0sZmlsZQ%3D%3D?line=9'>10</a>\u001b[0m )\n\u001b[1;32m     <a href='vscode-notebook-cell:/home/jagadeeshlachannagari/Desktop/dhruva_repo/jagadeesh_repo/Dhruva-Platform/server/dummy.ipynb#W0sZmlsZQ%3D%3D?line=10'>11</a>\u001b[0m \u001b[39m# from ..repository import ServiceRepository, ModelRepository\u001b[39;00m\n",
      "File \u001b[0;32m~/Desktop/dhruva_repo/jagadeesh_repo/Dhruva-Platform/server/schema/services/request/__init__.py:4\u001b[0m\n\u001b[1;32m      1\u001b[0m \u001b[39mfrom\u001b[39;00m \u001b[39mtyping\u001b[39;00m \u001b[39mimport\u001b[39;00m Union\n\u001b[1;32m      3\u001b[0m \u001b[39mfrom\u001b[39;00m \u001b[39m.\u001b[39;00m\u001b[39mcreate_snapshot_request\u001b[39;00m \u001b[39mimport\u001b[39;00m CreateSnapshotRequest\n\u001b[0;32m----> 4\u001b[0m \u001b[39mfrom\u001b[39;00m \u001b[39m.\u001b[39;00m\u001b[39mfeedback_download_query\u001b[39;00m \u001b[39mimport\u001b[39;00m FeedbackDownloadQuery\n\u001b[1;32m      5\u001b[0m \u001b[39mfrom\u001b[39;00m \u001b[39m.\u001b[39;00m\u001b[39mfeedback_submit_request\u001b[39;00m \u001b[39mimport\u001b[39;00m ULCAFeedbackRequest\n\u001b[1;32m      6\u001b[0m \u001b[39mfrom\u001b[39;00m \u001b[39m.\u001b[39;00m\u001b[39mmodel_create_request\u001b[39;00m \u001b[39mimport\u001b[39;00m ModelCreateRequest\n",
      "File \u001b[0;32m~/Desktop/dhruva_repo/jagadeesh_repo/Dhruva-Platform/server/schema/services/request/feedback_download_query.py:7\u001b[0m\n\u001b[1;32m      2\u001b[0m \u001b[39mfrom\u001b[39;00m \u001b[39mtyping\u001b[39;00m \u001b[39mimport\u001b[39;00m Any, Dict, Optional\n\u001b[1;32m      4\u001b[0m \u001b[39mfrom\u001b[39;00m \u001b[39mpydantic\u001b[39;00m \u001b[39mimport\u001b[39;00m BaseModel, root_validator\n\u001b[0;32m----> 7\u001b[0m \u001b[39mclass\u001b[39;49;00m \u001b[39mFeedbackDownloadQuery\u001b[39;49;00m(BaseModel):\n\u001b[1;32m      8\u001b[0m     serviceId: Optional[\u001b[39mstr\u001b[39;49m]\n\u001b[1;32m      9\u001b[0m     fromDate: \u001b[39mint\u001b[39;49m\n",
      "File \u001b[0;32m~/Desktop/dhruva_repo/jagadeesh_repo/Dhruva-Platform/server/schema/services/request/feedback_download_query.py:12\u001b[0m, in \u001b[0;36mFeedbackDownloadQuery\u001b[0;34m()\u001b[0m\n\u001b[1;32m      9\u001b[0m fromDate: \u001b[39mint\u001b[39m\n\u001b[1;32m     10\u001b[0m toDate: \u001b[39mint\u001b[39m\n\u001b[0;32m---> 12\u001b[0m \u001b[39m@root_validator\u001b[39;49m\n\u001b[1;32m     13\u001b[0m \u001b[39mdef\u001b[39;49;00m \u001b[39mvalidate_date_ranges\u001b[39;49m(\u001b[39mcls\u001b[39;49m, values: Dict[\u001b[39mstr\u001b[39;49m, Any]):\n\u001b[1;32m     14\u001b[0m     \u001b[39mif\u001b[39;49;00m values[\u001b[39m\"\u001b[39;49m\u001b[39mfromDate\u001b[39;49m\u001b[39m\"\u001b[39;49m] \u001b[39m>\u001b[39;49m \u001b[39m9999999999\u001b[39;49m \u001b[39mor\u001b[39;49;00m values[\u001b[39m\"\u001b[39;49m\u001b[39mtoDate\u001b[39;49m\u001b[39m\"\u001b[39;49m] \u001b[39m>\u001b[39;49m \u001b[39m9999999999\u001b[39;49m:\n\u001b[1;32m     15\u001b[0m         \u001b[39mraise\u001b[39;49;00m \u001b[39mValueError\u001b[39;49;00m(\u001b[39m\"\u001b[39;49m\u001b[39mUNIX Timestamp should be in seconds\u001b[39;49m\u001b[39m\"\u001b[39;49m)\n",
      "File \u001b[0;32m~/miniconda3/envs/dhruva_cenv/lib/python3.11/site-packages/pydantic/deprecated/class_validators.py:231\u001b[0m, in \u001b[0;36mroot_validator\u001b[0;34m(pre, skip_on_failure, allow_reuse, *__args)\u001b[0m\n\u001b[1;32m    221\u001b[0m warn(\n\u001b[1;32m    222\u001b[0m     \u001b[39m'\u001b[39m\u001b[39mPydantic V1 style `@root_validator` validators are deprecated.\u001b[39m\u001b[39m'\u001b[39m\n\u001b[1;32m    223\u001b[0m     \u001b[39m'\u001b[39m\u001b[39m You should migrate to Pydantic V2 style `@model_validator` validators,\u001b[39m\u001b[39m'\u001b[39m\n\u001b[0;32m   (...)\u001b[0m\n\u001b[1;32m    226\u001b[0m     stacklevel\u001b[39m=\u001b[39m\u001b[39m2\u001b[39m,\n\u001b[1;32m    227\u001b[0m )\n\u001b[1;32m    229\u001b[0m \u001b[39mif\u001b[39;00m __args:\n\u001b[1;32m    230\u001b[0m     \u001b[39m# Ensure a nice error is raised if someone attempts to use the bare decorator\u001b[39;00m\n\u001b[0;32m--> 231\u001b[0m     \u001b[39mreturn\u001b[39;00m root_validator()(\u001b[39m*\u001b[39m__args)  \u001b[39m# type: ignore\u001b[39;00m\n\u001b[1;32m    233\u001b[0m \u001b[39mif\u001b[39;00m allow_reuse \u001b[39mis\u001b[39;00m \u001b[39mTrue\u001b[39;00m:  \u001b[39m# pragma: no cover\u001b[39;00m\n\u001b[1;32m    234\u001b[0m     warn(_ALLOW_REUSE_WARNING_MESSAGE, \u001b[39mDeprecationWarning\u001b[39;00m)\n",
      "File \u001b[0;32m~/miniconda3/envs/dhruva_cenv/lib/python3.11/site-packages/pydantic/deprecated/class_validators.py:237\u001b[0m, in \u001b[0;36mroot_validator\u001b[0;34m(pre, skip_on_failure, allow_reuse, *__args)\u001b[0m\n\u001b[1;32m    235\u001b[0m mode: Literal[\u001b[39m'\u001b[39m\u001b[39mbefore\u001b[39m\u001b[39m'\u001b[39m, \u001b[39m'\u001b[39m\u001b[39mafter\u001b[39m\u001b[39m'\u001b[39m] \u001b[39m=\u001b[39m \u001b[39m'\u001b[39m\u001b[39mbefore\u001b[39m\u001b[39m'\u001b[39m \u001b[39mif\u001b[39;00m pre \u001b[39mis\u001b[39;00m \u001b[39mTrue\u001b[39;00m \u001b[39melse\u001b[39;00m \u001b[39m'\u001b[39m\u001b[39mafter\u001b[39m\u001b[39m'\u001b[39m\n\u001b[1;32m    236\u001b[0m \u001b[39mif\u001b[39;00m pre \u001b[39mis\u001b[39;00m \u001b[39mFalse\u001b[39;00m \u001b[39mand\u001b[39;00m skip_on_failure \u001b[39mis\u001b[39;00m \u001b[39mnot\u001b[39;00m \u001b[39mTrue\u001b[39;00m:\n\u001b[0;32m--> 237\u001b[0m     \u001b[39mraise\u001b[39;00m PydanticUserError(\n\u001b[1;32m    238\u001b[0m         \u001b[39m'\u001b[39m\u001b[39mIf you use `@root_validator` with pre=False (the default) you MUST specify `skip_on_failure=True`.\u001b[39m\u001b[39m'\u001b[39m\n\u001b[1;32m    239\u001b[0m         \u001b[39m'\u001b[39m\u001b[39m Note that `@root_validator` is deprecated and should be replaced with `@model_validator`.\u001b[39m\u001b[39m'\u001b[39m,\n\u001b[1;32m    240\u001b[0m         code\u001b[39m=\u001b[39m\u001b[39m'\u001b[39m\u001b[39mroot-validator-pre-skip\u001b[39m\u001b[39m'\u001b[39m,\n\u001b[1;32m    241\u001b[0m     )\n\u001b[1;32m    243\u001b[0m wrap \u001b[39m=\u001b[39m partial(_decorators_v1\u001b[39m.\u001b[39mmake_v1_generic_root_validator, pre\u001b[39m=\u001b[39mpre)\n\u001b[1;32m    245\u001b[0m \u001b[39mdef\u001b[39;00m \u001b[39mdec\u001b[39m(f: Callable[\u001b[39m.\u001b[39m\u001b[39m.\u001b[39m\u001b[39m.\u001b[39m, Any] \u001b[39m|\u001b[39m \u001b[39mclassmethod\u001b[39m[Any, Any, Any] \u001b[39m|\u001b[39m \u001b[39mstaticmethod\u001b[39m[Any, Any]) \u001b[39m-\u001b[39m\u001b[39m>\u001b[39m Any:\n",
      "\u001b[0;31mPydanticUserError\u001b[0m: If you use `@root_validator` with pre=False (the default) you MUST specify `skip_on_failure=True`. Note that `@root_validator` is deprecated and should be replaced with `@model_validator`.\n\nFor further information visit https://errors.pydantic.dev/2.5/u/root-validator-pre-skip"
     ]
    }
   ],
   "source": [
    "\n",
    "from fastapi import APIRouter, Depends, Request\n",
    "from fastapi.routing import APIRoute, Request\n",
    "from schema.auth.common import ApiKeyType\n",
    "from schema.services.request import (\n",
    "    ULCAOcrInferenceRequest,\n",
    "    ULCAInferenceQuery\n",
    ")\n",
    "from schema.services.response import (\n",
    "    ULCAOcrInferenceResponse\n",
    ")\n",
    "# from ..repository import ServiceRepository, ModelRepository\n",
    "from .module.services.service.inference_service import InferenceService"
   ]
  },
  {
   "cell_type": "code",
   "execution_count": null,
   "metadata": {},
   "outputs": [],
   "source": [
    "\n",
    "def _run_inference_ocr(\n",
    "    request: ULCAOcrInferenceRequest,\n",
    "    request_state: Request,\n",
    "    params: ULCAInferenceQuery = Depends(),\n",
    "    inference_service: InferenceService = Depends(InferenceService),\n",
    "):\n",
    "    if params.serviceId:\n",
    "        request.set_service_id(params.serviceId)\n",
    "\n",
    "    return inference_service.run_ocr_triton_inference(\n",
    "        request, request_state.state.api_key_name, request_state.state.user_id\n",
    "    )"
   ]
  }
 ],
 "metadata": {
  "kernelspec": {
   "display_name": "Python 3",
   "language": "python",
   "name": "python3"
  },
  "language_info": {
   "codemirror_mode": {
    "name": "ipython",
    "version": 3
   },
   "file_extension": ".py",
   "mimetype": "text/x-python",
   "name": "python",
   "nbconvert_exporter": "python",
   "pygments_lexer": "ipython3",
   "version": "3.11.5"
  }
 },
 "nbformat": 4,
 "nbformat_minor": 2
}
